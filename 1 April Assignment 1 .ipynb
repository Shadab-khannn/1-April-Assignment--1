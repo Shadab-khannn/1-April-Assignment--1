{
 "cells": [
  {
   "cell_type": "code",
   "execution_count": null,
   "id": "06b89056-9cdb-4166-905c-d1f8191f4f9e",
   "metadata": {},
   "outputs": [],
   "source": [
    "Q1. Explain the difference between linear regression and logistic regression models. Provide an example of\n",
    "a scenario where logistic regression would be more appropriate."
   ]
  },
  {
   "cell_type": "markdown",
   "id": "b043ab64-79ae-403e-bd26-d2e34f1bffd1",
   "metadata": {},
   "source": [
    "ANS-"
   ]
  },
  {
   "cell_type": "code",
   "execution_count": null,
   "id": "6cd7d007-271a-44a7-9938-e90f32eb6796",
   "metadata": {},
   "outputs": [],
   "source": [
    "Linear regression is used to predict a continuous value while logistic regression is used to predict a discrete value. \n",
    "Linear regression models data using continuous numeric value while logistic regression models the data in binary values. \n",
    "Linear regression requires establishing the linear relationship between dependent and independent variables whereas it is not necessary\n",
    "for logistic regression.\n",
    "\n",
    "For example, if we want to predict the price of a house based on its area, we can use linear regression. However, if we want to predict\n",
    "whether a customer will buy a product or not based on their age, gender, and income, we can use logistic regression."
   ]
  },
  {
   "cell_type": "code",
   "execution_count": null,
   "id": "803a3ec5-b85e-49e5-b70d-f59b5b04ff77",
   "metadata": {},
   "outputs": [],
   "source": []
  },
  {
   "cell_type": "code",
   "execution_count": null,
   "id": "2d132024-35ad-4a93-874b-e00af80bf2f7",
   "metadata": {},
   "outputs": [],
   "source": [
    "Q2. What is the cost function used in logistic regression, and how is it optimized?"
   ]
  },
  {
   "cell_type": "markdown",
   "id": "d14a3a1a-fc65-4063-b1e6-f90a16b37d1e",
   "metadata": {},
   "source": [
    "ANS-"
   ]
  },
  {
   "cell_type": "code",
   "execution_count": null,
   "id": "29c41a74-427f-47f8-aa37-2694826ae2d0",
   "metadata": {},
   "outputs": [],
   "source": [
    "The cost function used in logistic regression is also known as the cross-entropy or the log loss. The cost function is defined as \n",
    "the difference between the predicted value and the actual value. The optimization of the cost function is done using gradient descent.\n",
    "\n",
    "The logistic regression cost function can be rewritten as:\n",
    "\n",
    "J (θ) = 1/m ∑ i=1 m Cost(hθ(x(i)), y(i)) = −1/m [ ∑ i=1 m y(i) log(hθ(x(i))) + (1 − y(i)) log(1 − hθ(x(i)))]\n",
    "\n",
    "where hθ(x) is the hypothesis function and y is the actual value.\n",
    "\n",
    "Gradient descent is an iterative optimization algorithm that finds the minimum of a differentiable function. In this process, \n",
    "we try different values and update them to reach the optimal ones, minimizing the output."
   ]
  },
  {
   "cell_type": "code",
   "execution_count": null,
   "id": "dba32645-c944-4e0b-a5f3-8c21db38e5ca",
   "metadata": {},
   "outputs": [],
   "source": []
  },
  {
   "cell_type": "code",
   "execution_count": null,
   "id": "46d4581e-7727-4cb2-95d9-d04921a7157e",
   "metadata": {},
   "outputs": [],
   "source": [
    "Q3. Explain the concept of regularization in logistic regression and how it helps prevent overfitting."
   ]
  },
  {
   "cell_type": "markdown",
   "id": "04846073-41aa-47f7-99cd-a42b56b650ba",
   "metadata": {},
   "source": [
    "ANS-"
   ]
  },
  {
   "cell_type": "code",
   "execution_count": null,
   "id": "41aafc8c-0e9a-4bc4-8b56-50c69f0ddb11",
   "metadata": {},
   "outputs": [],
   "source": [
    "Regularization is a technique used to prevent overfitting in logistic regression. Overfitting occurs when the model is too complex and\n",
    "fits the training data too well, which can lead to poor generalization performance on new data. Regularization adds a penalty term to \n",
    "the cost function that shrinks the coefficients towards zero, which reduces the complexity of the model and helps prevent overfitting.\n",
    "\n",
    "There are two common types of regularization used in logistic regression: L1 regularization (also known as Lasso regularization) \n",
    "and L2 regularization (also known as Ridge regularization). L1 regularization adds a penalty term that is equal to the sum of the \n",
    "absolute values of the coefficients times a regularization parameter. L2 regularization adds a penalty term that is equal to the sum \n",
    "of the squares of the coefficients times a regularization parameter. L2 regularization is more commonly used in logistic regression \n",
    "than L1 regularization because it tends to produce smoother models and is less sensitive to outliers."
   ]
  },
  {
   "cell_type": "code",
   "execution_count": null,
   "id": "4eb5c841-5b28-494a-9066-c150fab9a540",
   "metadata": {},
   "outputs": [],
   "source": []
  },
  {
   "cell_type": "code",
   "execution_count": null,
   "id": "65b5e910-33e4-419c-82ef-55a525a9ba26",
   "metadata": {},
   "outputs": [],
   "source": [
    "Q4. What is the ROC curve, and how is it used to evaluate the performance of the logistic regression\n",
    "model?"
   ]
  },
  {
   "cell_type": "markdown",
   "id": "1e43975f-6795-4b53-bba2-06acead20f7d",
   "metadata": {},
   "source": [
    "ANS-"
   ]
  },
  {
   "cell_type": "code",
   "execution_count": null,
   "id": "fb9a0c15-1b8c-4b4f-b051-86cc12fe7a53",
   "metadata": {},
   "outputs": [],
   "source": [
    "The ROC curve is a graphical representation of the performance of a binary classifier system as its discrimination threshold is varied.\n",
    "It is created by plotting the true positive rate (TPR) against the false positive rate (FPR) at various threshold settings.\n",
    "The area under the curve (AUC) is often used as a measure of the accuracy of the model. \n",
    "In logistic regression, ROC curves are used for determining the best cutoff value for predicting whether a new observation\n",
    "is a “failure” (0) or a “success” (1). The larger the AUC, the better the model does at distinguishing between positive and negative cases."
   ]
  },
  {
   "cell_type": "code",
   "execution_count": null,
   "id": "19eb848e-656e-41dd-965b-42bfd8d1c75c",
   "metadata": {},
   "outputs": [],
   "source": []
  },
  {
   "cell_type": "code",
   "execution_count": null,
   "id": "0667be28-cd36-40c0-8be9-a5dd9fc34757",
   "metadata": {},
   "outputs": [],
   "source": [
    "Q5. What are some common techniques for feature selection in logistic regression? How do these\n",
    "techniques help improve the model's performance?"
   ]
  },
  {
   "cell_type": "markdown",
   "id": "c278e105-c1ab-4777-994c-daefba4b8ef5",
   "metadata": {},
   "source": [
    "ANS="
   ]
  },
  {
   "cell_type": "code",
   "execution_count": null,
   "id": "61244527-2025-4773-950a-6015c464d65d",
   "metadata": {},
   "outputs": [],
   "source": [
    "Common techniques for feature selection in logistic regression include:\n",
    "\n",
    "Coefficient values\n",
    "Recursive feature elimination (RFE)\n",
    "Sci-kit Learn’s SelectFromModels (SFM)\n",
    "Information Gain\n",
    "Chi-square test\n",
    "\n",
    "These techniques help improve the model’s performance by selecting the most important features that contribute to the prediction of\n",
    "the target variable. By removing irrelevant or redundant features, these techniques can reduce overfitting and improve the model’s\n",
    "generalization ability.\n",
    "\n",
    "For example, RFE is a wrapper method that recursively removes features from the dataset and fits a model on the remaining features \n",
    "until the desired number of features is reached. The importance of each feature is determined by the model’s coefficients or weights. \n",
    "SFM is another wrapper method that selects features based on their importance scores computed by a linear model. Information Gain and\n",
    "Chi-square test are filter methods that rank features based on their relevance to the target variable."
   ]
  },
  {
   "cell_type": "code",
   "execution_count": null,
   "id": "453c0f6a-17e9-4ff2-9cb7-cf99c41a7c16",
   "metadata": {},
   "outputs": [],
   "source": []
  },
  {
   "cell_type": "code",
   "execution_count": null,
   "id": "f486f666-e34f-46b6-958d-db254df18e7b",
   "metadata": {},
   "outputs": [],
   "source": [
    "Q6. How can you handle imbalanced datasets in logistic regression? What are some strategies for dealing\n",
    "with class imbalance?"
   ]
  },
  {
   "cell_type": "markdown",
   "id": "7c0ec900-803f-463a-b098-7b53dff1f3b6",
   "metadata": {},
   "source": [
    "ANS-"
   ]
  },
  {
   "cell_type": "code",
   "execution_count": null,
   "id": "99aba7a1-1786-47a9-a4b1-f7d914c77b13",
   "metadata": {},
   "outputs": [],
   "source": [
    "To handle imbalanced classes with logistic regression, one can use the class_weight option and set the balanced value.\n",
    "This will tell sklearn to use stratified sampling techniques and other algorithms to handle imbalanced classes and fit a better model. \n",
    "Another approach is to use a relabeling method which is an effective and powerful way to handle the class imbalance problem in logistic \n",
    "regression, especially when a cluster structure is evident within the minority class data."
   ]
  },
  {
   "cell_type": "code",
   "execution_count": null,
   "id": "afb0ac31-7960-457d-9098-f9c998fb15ae",
   "metadata": {},
   "outputs": [],
   "source": []
  },
  {
   "cell_type": "code",
   "execution_count": null,
   "id": "adf20255-31eb-440e-aae5-6eef87ade2f2",
   "metadata": {},
   "outputs": [],
   "source": [
    "Q7. Can you discuss some common issues and challenges that may arise when implementing logistic\n",
    "regression, and how they can be addressed? For example, what can be done if there is multicollinearity\n",
    "among the independent variables?"
   ]
  },
  {
   "cell_type": "markdown",
   "id": "6546b92c-bfdb-4e7c-8307-3f0e9d88b203",
   "metadata": {},
   "source": [
    "ANS-"
   ]
  },
  {
   "cell_type": "code",
   "execution_count": null,
   "id": "7eba1b39-f2cd-4c41-a2b0-8e31f275cf4c",
   "metadata": {},
   "outputs": [],
   "source": [
    "Some common issues and challenges that may arise when implementing logistic regression include:\n",
    "\n",
    "1.Multicollinearity among the independent variables: This occurs when two or more independent variables are highly correlated with each other.\n",
    "  This can lead to unstable estimates of the regression coefficients and make it difficult to interpret the results. One way to address this \n",
    "    issue is to use regularization techniques such as Ridge Regression or Lasso Regression1.\n",
    "\n",
    "2.Overfitting: This occurs when the model is too complex and fits the training data too closely. This can lead to poor generalization\n",
    "performance on new data. One way to address this issue is to use regularization techniques such as Ridge Regression or Lasso Regression.\n",
    "\n",
    "3.Sample size: Logistic regression requires a large sample size relative to the number of independent variables. If the sample size is too \n",
    "small, the estimates of the regression coefficients may be unstable and unreliable.\n",
    "\n",
    "4.Outliers: Outliers can have a large effect on the estimated regression coefficients and can lead to poor model performance.\n",
    "One way to address this issue is to use robust regression techniques such as Huber Regression or Least Trimmed Squares Regression.\n",
    "\n",
    "5.Non-linearity: Logistic regression assumes a linear relationship between the independent variables and the log odds of the dependent\n",
    "variable. If this assumption is violated, the model may not fit the data well. One way to address this issue is to use polynomial regression\n",
    "or splines."
   ]
  },
  {
   "cell_type": "code",
   "execution_count": null,
   "id": "322ae3a6-6bbf-4a5d-93e2-82b33d534c16",
   "metadata": {},
   "outputs": [],
   "source": []
  },
  {
   "cell_type": "code",
   "execution_count": null,
   "id": "4b1d3116-de9c-499b-b718-0bb99386a0ef",
   "metadata": {},
   "outputs": [],
   "source": []
  },
  {
   "cell_type": "code",
   "execution_count": null,
   "id": "8efa8c6c-f47f-4169-b36b-24e389f59e9e",
   "metadata": {},
   "outputs": [],
   "source": []
  },
  {
   "cell_type": "code",
   "execution_count": null,
   "id": "f1952cd4-4f13-4ff0-9feb-d8b8c62addf5",
   "metadata": {},
   "outputs": [],
   "source": []
  },
  {
   "cell_type": "code",
   "execution_count": null,
   "id": "f1bf6046-9c66-4efb-8485-712fa3a6b4cb",
   "metadata": {},
   "outputs": [],
   "source": []
  },
  {
   "cell_type": "code",
   "execution_count": null,
   "id": "16678f14-b1a1-4b95-b8c9-63fca1ef4241",
   "metadata": {},
   "outputs": [],
   "source": []
  },
  {
   "cell_type": "code",
   "execution_count": null,
   "id": "d23511b6-a02e-42ed-96c8-50ce99fe5d8d",
   "metadata": {},
   "outputs": [],
   "source": []
  },
  {
   "cell_type": "code",
   "execution_count": null,
   "id": "a0d0bce9-e30f-4b69-a9d6-2c3ae11a98c0",
   "metadata": {},
   "outputs": [],
   "source": []
  },
  {
   "cell_type": "code",
   "execution_count": null,
   "id": "839fe638-743a-4c1d-b20b-5aaa1b7828d8",
   "metadata": {},
   "outputs": [],
   "source": []
  },
  {
   "cell_type": "code",
   "execution_count": null,
   "id": "bdd7d9eb-12da-40cc-93e3-4dc2901f52cc",
   "metadata": {},
   "outputs": [],
   "source": []
  },
  {
   "cell_type": "code",
   "execution_count": null,
   "id": "33d6c730-309f-4d7f-a665-15e7d7490c2c",
   "metadata": {},
   "outputs": [],
   "source": []
  },
  {
   "cell_type": "code",
   "execution_count": null,
   "id": "9bf72647-9b8e-4c0c-8c50-b97f52428f12",
   "metadata": {},
   "outputs": [],
   "source": []
  },
  {
   "cell_type": "code",
   "execution_count": null,
   "id": "6a70e1f7-a6ef-4b96-8f23-7f059f37cf6d",
   "metadata": {},
   "outputs": [],
   "source": []
  },
  {
   "cell_type": "code",
   "execution_count": null,
   "id": "26d27f4a-f234-4aba-88c5-0a405e4987fa",
   "metadata": {},
   "outputs": [],
   "source": []
  },
  {
   "cell_type": "code",
   "execution_count": null,
   "id": "9517988a-8144-45d3-b2a0-e0473b8b1ea3",
   "metadata": {},
   "outputs": [],
   "source": []
  }
 ],
 "metadata": {
  "kernelspec": {
   "display_name": "Python 3 (ipykernel)",
   "language": "python",
   "name": "python3"
  },
  "language_info": {
   "codemirror_mode": {
    "name": "ipython",
    "version": 3
   },
   "file_extension": ".py",
   "mimetype": "text/x-python",
   "name": "python",
   "nbconvert_exporter": "python",
   "pygments_lexer": "ipython3",
   "version": "3.10.8"
  }
 },
 "nbformat": 4,
 "nbformat_minor": 5
}
